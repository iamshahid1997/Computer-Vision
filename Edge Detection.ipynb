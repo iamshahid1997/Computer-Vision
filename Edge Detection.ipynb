{
 "cells": [
  {
   "cell_type": "code",
   "execution_count": 20,
   "metadata": {},
   "outputs": [],
   "source": [
    "import cv2 \n",
    "import numpy as np\n",
    "\n",
    "img = cv2.imread('Images/white_panda.jpg',cv2.IMREAD_GRAYSCALE)\n",
    "img = cv2.GaussianBlur(img,(11,11),0)\n",
    "\n",
    "sobelx = cv2.Sobel(img,cv2.CV_64F,1,0)\n",
    "sobely = cv2.Sobel(img,cv2.CV_64F,0,1)\n",
    "\n",
    "laplacian = cv2.Laplacian(img,cv2.CV_64F,ksize = 5)\n",
    "\n",
    "canny = cv2.Canny(img,60,90)\n",
    "\n",
    "\n",
    "cv2.imshow('Img',img)\n",
    "cv2.imshow('Sobelx',sobelx)\n",
    "cv2.imshow('Sobely',sobely)\n",
    "cv2.imshow('Laplacian',laplacian)\n",
    "cv2.imshow('canny',canny)\n",
    "\n",
    "cv2.waitKey(0) == 27\n",
    "\n",
    "cv2.destroyAllWindows()"
   ]
  },
  {
   "cell_type": "code",
   "execution_count": 28,
   "metadata": {},
   "outputs": [],
   "source": [
    "import cv2\n",
    "import numpy as np \n",
    "\n",
    "cap = cv2.VideoCapture(0)\n",
    "\n",
    "while True:\n",
    "    ret,frame = cap.read()\n",
    "    frame = cv2.cvtColor(frame,cv2.COLOR_BGR2GRAY)\n",
    "    blurred_frame = cv2.GaussianBlur(frame,(5,5),0)\n",
    "    canny = cv2.Canny(frame,90,150)\n",
    "    \n",
    "    \n",
    "    cv2.imshow('Frame',frame)\n",
    "    cv2.imshow('Canny',canny)\n",
    "    \n",
    "    if cv2.waitKey(1) == 27:\n",
    "        break\n",
    "        \n",
    "cap.release()\n",
    "cv2.destroyAllWindows()"
   ]
  },
  {
   "cell_type": "code",
   "execution_count": null,
   "metadata": {},
   "outputs": [],
   "source": []
  }
 ],
 "metadata": {
  "kernelspec": {
   "display_name": "Python 3",
   "language": "python",
   "name": "python3"
  },
  "language_info": {
   "codemirror_mode": {
    "name": "ipython",
    "version": 3
   },
   "file_extension": ".py",
   "mimetype": "text/x-python",
   "name": "python",
   "nbconvert_exporter": "python",
   "pygments_lexer": "ipython3",
   "version": "3.6.6"
  }
 },
 "nbformat": 4,
 "nbformat_minor": 2
}

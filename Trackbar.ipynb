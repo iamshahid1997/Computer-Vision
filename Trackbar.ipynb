{
 "cells": [
  {
   "cell_type": "code",
   "execution_count": 10,
   "metadata": {},
   "outputs": [],
   "source": [
    "import cv2\n",
    "import numpy as np\n",
    "\n",
    "def nothing(x):\n",
    "    pass\n",
    "\n",
    "cap = cv2.VideoCapture(0)\n",
    "cv2.namedWindow('frame')\n",
    "cv2.createTrackbar('test','frame',0,300,nothing)\n",
    "cv2.createTrackbar('color/gray','frame',0,1,nothing)\n",
    "\n",
    "while True:\n",
    "    ret,frame = cap.read()\n",
    "    frame = cv2.flip(frame,1)\n",
    "    \n",
    "    test = cv2.getTrackbarPos('test','frame')\n",
    "    font = cv2.FONT_HERSHEY_COMPLEX\n",
    "    cv2.putText(frame,str(test),(50,130),font,3,(0,0,255))\n",
    "    value = cv2.getTrackbarPos('color/gray','frame')\n",
    "    if value == 0:\n",
    "        pass\n",
    "    else:\n",
    "        frame = cv2.cvtColor(frame,cv2.COLOR_BGR2GRAY)\n",
    "    \n",
    "    cv2.imshow('frame',frame)\n",
    "    \n",
    "    if cv2.waitKey(1) == 27:\n",
    "        break\n",
    "        \n",
    "cap.release()\n",
    "cv2.destroyAllWindows()"
   ]
  },
  {
   "cell_type": "code",
   "execution_count": null,
   "metadata": {},
   "outputs": [],
   "source": []
  }
 ],
 "metadata": {
  "kernelspec": {
   "display_name": "Python 3",
   "language": "python",
   "name": "python3"
  },
  "language_info": {
   "codemirror_mode": {
    "name": "ipython",
    "version": 3
   },
   "file_extension": ".py",
   "mimetype": "text/x-python",
   "name": "python",
   "nbconvert_exporter": "python",
   "pygments_lexer": "ipython3",
   "version": "3.6.6"
  }
 },
 "nbformat": 4,
 "nbformat_minor": 2
}

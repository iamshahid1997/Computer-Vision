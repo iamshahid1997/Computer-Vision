{
 "cells": [
  {
   "cell_type": "code",
   "execution_count": 54,
   "metadata": {},
   "outputs": [],
   "source": [
    "import cv2\n",
    "import numpy as np\n",
    "\n",
    "\n",
    "cap = cv2.VideoCapture(0)\n",
    "\n",
    "_,face_frame = cap.read()\n",
    "  \n",
    "face_cascade = cv2.CascadeClassifier('Images/haarcascades/haarcascade_frontalface_alt2.xml')\n",
    "\n",
    "face_rets = face_cascade.detectMultiScale(face_frame)\n",
    "(x,y,w,h) = tuple(face_rets[0])\n",
    "track_window = (x,y,w,h)\n",
    "roi = face_frame[y:y+h,x:x+w]\n",
    "hsv_roi = cv2.cvtColor(roi,cv2.COLOR_BGR2HSV)\n",
    "roi_hist = cv2.calcHist([hsv_roi],[0],None,[180],[0,180])\n",
    "roi_hist = cv2.normalize(roi_hist,roi_hist,0,255,cv2.NORM_MINMAX)\n",
    "term_critera = (cv2.TERM_CRITERIA_EPS | cv2.TERM_CRITERIA_COUNT,10,1)            \n",
    "                \n",
    "while True:\n",
    "    _,frame = cap.read()\n",
    "    hsv = cv2.cvtColor(frame,cv2.COLOR_BGR2HSV)\n",
    "    mask = cv2.calcBackProject([hsv],[0],roi_hist,[0,180],1)\n",
    "    \n",
    "    \n",
    "    rets, track_window = cv2.CamShift(mask, track_window, term_criteria)\n",
    "    pts = cv2.boxPoints(rets)\n",
    "    pts = np.int0(pts)\n",
    "    img2 = cv2.polylines(frame,[pts],True,(0,255,0),3)\n",
    "    \n",
    "    cv2.imshow('Frame',img2)\n",
    "    cv2.imshow('Mask',mask)\n",
    "    if cv2.waitKey(1)== 27:\n",
    "        break\n",
    "        \n",
    "cap.release()\n",
    "cv2.destroyAllWindows()          "
   ]
  },
  {
   "cell_type": "code",
   "execution_count": null,
   "metadata": {},
   "outputs": [],
   "source": []
  },
  {
   "cell_type": "code",
   "execution_count": null,
   "metadata": {},
   "outputs": [],
   "source": []
  }
 ],
 "metadata": {
  "kernelspec": {
   "display_name": "Python 3",
   "language": "python",
   "name": "python3"
  },
  "language_info": {
   "codemirror_mode": {
    "name": "ipython",
    "version": 3
   },
   "file_extension": ".py",
   "mimetype": "text/x-python",
   "name": "python",
   "nbconvert_exporter": "python",
   "pygments_lexer": "ipython3",
   "version": "3.6.6"
  }
 },
 "nbformat": 4,
 "nbformat_minor": 2
}

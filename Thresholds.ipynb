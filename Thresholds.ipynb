{
 "cells": [
  {
   "cell_type": "code",
   "execution_count": 4,
   "metadata": {},
   "outputs": [],
   "source": [
    "import cv2\n",
    "import numpy as np\n",
    "\n",
    "img1 = cv2.imread('Images/road.jpg')\n",
    "img2 = cv2.imread('Images/car.jpg')    # Have to be of same size\n",
    "\n",
    "# Remove the background of the car and only put the car on the image2\n",
    "\n",
    "# 1. Convert the image into gray scale (its easier to work with as we only work with 2 colors)\n",
    "img2_gray = cv2.cvtColor(img2,cv2.COLOR_BGR2GRAY)\n",
    "\n",
    "#2. Transform this image into threshold\n",
    "ret , mask = cv2.threshold(img2_gray,240,255,cv2.THRESH_BINARY)\n",
    "mask_inv = cv2.bitwise_not(mask)\n",
    "\n",
    "\n",
    "#3. Take the background of the round and put the mask of car \n",
    "\n",
    "road = cv2.bitwise_and(img1,img1, mask=mask)  # We will take the mask and only blend the img1 on mask where it is white\n",
    "car = cv2.bitwise_and(img2,img2, mask=mask_inv)  # we will take the mask and only blend the img2 on the mask where it is black \n",
    "\n",
    "result = cv2.add(road,car)\n",
    "\n",
    "\n",
    "cv2.imshow('img1',img1)\n",
    "cv2.imshow('img2',img2)\n",
    "cv2.imshow('road background',road)\n",
    "cv2.imshow('car',car)\n",
    "cv2.imshow('mask',mask)\n",
    "cv2.imshow('mask_inv',mask_inv)\n",
    "cv2.imshow('Final',result)\n",
    "\n",
    "cv2.waitKey(0) == 27\n",
    "\n",
    "cv2.destroyAllWindows()\n",
    "\n"
   ]
  },
  {
   "cell_type": "code",
   "execution_count": null,
   "metadata": {},
   "outputs": [],
   "source": []
  }
 ],
 "metadata": {
  "kernelspec": {
   "display_name": "Python 3",
   "language": "python",
   "name": "python3"
  },
  "language_info": {
   "codemirror_mode": {
    "name": "ipython",
    "version": 3
   },
   "file_extension": ".py",
   "mimetype": "text/x-python",
   "name": "python",
   "nbconvert_exporter": "python",
   "pygments_lexer": "ipython3",
   "version": "3.6.6"
  }
 },
 "nbformat": 4,
 "nbformat_minor": 2
}

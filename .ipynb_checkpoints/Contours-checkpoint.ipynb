{
 "cells": [
  {
   "cell_type": "code",
   "execution_count": 12,
   "metadata": {},
   "outputs": [],
   "source": [
    "import cv2\n",
    "import numpy as np\n",
    "\n",
    "def nothing(x):\n",
    "    pass\n",
    "\n",
    "cap = cv2.VideoCapture(0)\n",
    "\n",
    "cv2.namedWindow('COLOR')\n",
    "cv2.createTrackbar('L-H','COLOR',0,179,nothing)\n",
    "cv2.createTrackbar('L-S','COLOR',0,255,nothing)\n",
    "cv2.createTrackbar('L-V','COLOR',0,255,nothing)\n",
    "cv2.createTrackbar('U-H','COLOR',179,179,nothing)\n",
    "cv2.createTrackbar('U-S','COLOR',255,255,nothing)\n",
    "cv2.createTrackbar('U-V','COLOR',255,255,nothing)\n",
    "\n",
    "while True:\n",
    "    _,frame = cap.read()\n",
    "    hsv = cv2.cvtColor(frame,cv2.COLOR_BGR2HSV)\n",
    "    blurred_frame = cv2.GaussianBlur(frame,(5,5),0)\n",
    "    \n",
    "    l_h = cv2.getTrackbarPos('L-H','COLOR')\n",
    "    l_s = cv2.getTrackbarPos('L-S','COLOR')\n",
    "    l_v = cv2.getTrackbarPos('L-v','COLOR')\n",
    "    u_h = cv2.getTrackbarPos('U-H','COLOR')\n",
    "    u_s = cv2.getTrackbarPos('U-S','COLOR')\n",
    "    u_v = cv2.getTrackbarPos('U-V','COLOR')\n",
    "    \n",
    "    lower_blue = np.array([l_h,l_s,l_v])\n",
    "    upper_blue = np.array([u_h,u_s,u_v])\n",
    "    \n",
    "    kernel = np.ones([5,5])\n",
    "    \n",
    "    mask = cv2.inRange(hsv,lower_blue,upper_blue)\n",
    "    opening = cv2.morphologyEx(mask, cv2.MORPH_OPEN,kernel,iterations = 2)\n",
    "    \n",
    "    _,contours, _ = cv2.findContours(opening,cv2.RETR_TREE,cv2.CHAIN_APPROX_NONE)\n",
    "    \n",
    "    for contours in contours:\n",
    "        area = cv2.contourArea(contours)\n",
    "        \n",
    "        if area >5000:\n",
    "            cv2.drawContours(blurred_frame,contours,-1,(0,255,0),3)\n",
    "    \n",
    "    cv2.imshow('frame',blurred_frame)\n",
    "    cv2.imshow('Mask',mask)\n",
    "    cv2.imshow('Opening',opening)\n",
    "    \n",
    "    \n",
    "    if cv2.waitKey(1) == 27:\n",
    "        break\n",
    "        \n",
    "cap.release()\n",
    "cv2.destroyAllWindows()"
   ]
  },
  {
   "cell_type": "code",
   "execution_count": null,
   "metadata": {},
   "outputs": [],
   "source": []
  }
 ],
 "metadata": {
  "kernelspec": {
   "display_name": "Python 3",
   "language": "python",
   "name": "python3"
  },
  "language_info": {
   "codemirror_mode": {
    "name": "ipython",
    "version": 3
   },
   "file_extension": ".py",
   "mimetype": "text/x-python",
   "name": "python",
   "nbconvert_exporter": "python",
   "pygments_lexer": "ipython3",
   "version": "3.6.6"
  }
 },
 "nbformat": 4,
 "nbformat_minor": 2
}

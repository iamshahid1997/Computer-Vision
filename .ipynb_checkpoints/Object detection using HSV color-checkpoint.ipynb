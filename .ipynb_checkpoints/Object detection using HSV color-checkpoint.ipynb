{
 "cells": [
  {
   "cell_type": "code",
   "execution_count": 10,
   "metadata": {},
   "outputs": [],
   "source": [
    "import  cv2 \n",
    "import numpy as np\n",
    "\n",
    "def nothing(x):\n",
    "    pass\n",
    "\n",
    "cap = cv2.VideoCapture(0)\n",
    "cv2.namedWindow('Trackbar')\n",
    "cv2.createTrackbar('L - H','Trackbar',0,179,nothing)\n",
    "cv2.createTrackbar('L - S','Trackbar',0,255,nothing)\n",
    "cv2.createTrackbar('L - V','Trackbar',0,255,nothing)\n",
    "cv2.createTrackbar('U - H','Trackbar',179,179,nothing)\n",
    "cv2.createTrackbar('U - S','Trackbar',255,255,nothing)\n",
    "cv2.createTrackbar('U - V','Trackbar',255,255,nothing)\n",
    "\n",
    "while True:\n",
    "    ret,frame = cap.read()\n",
    "    frame = cv2.flip(frame,1)\n",
    "    hsv = cv2.cvtColor(frame,cv2.COLOR_BGR2HSV)\n",
    "    \n",
    "    l_h = cv2.getTrackbarPos('L - H','Trackbar')\n",
    "    l_s = cv2.getTrackbarPos('L - S','Trackbar')\n",
    "    l_v = cv2.getTrackbarPos('L - V','Trackbar')\n",
    "    u_h = cv2.getTrackbarPos('U - H','Trackbar')\n",
    "    u_s = cv2.getTrackbarPos('U - S','Trackbar')\n",
    "    u_v = cv2.getTrackbarPos('U - V','Trackbar')\n",
    "    \n",
    "    lower_blue = np.array([l_h,l_s,l_v])\n",
    "    upper_blue = np.array([u_h,u_s,u_v])\n",
    "    \n",
    "    mask = cv2.inRange(hsv,lower_blue,upper_blue)\n",
    "    \n",
    "    result = cv2.bitwise_and(frame,frame, mask=mask)\n",
    "    \n",
    "    \n",
    "    cv2.imshow('frame',frame)\n",
    "    cv2.imshow('blue',mask)\n",
    "    cv2.imshow('result',result)\n",
    "    \n",
    "    if cv2.waitKey(1) == 27:\n",
    "        break\n",
    "        \n",
    "cap.release()\n",
    "cv2.destroyAllWindows()"
   ]
  },
  {
   "cell_type": "code",
   "execution_count": null,
   "metadata": {},
   "outputs": [],
   "source": []
  },
  {
   "cell_type": "code",
   "execution_count": null,
   "metadata": {},
   "outputs": [],
   "source": []
  }
 ],
 "metadata": {
  "kernelspec": {
   "display_name": "Python 3",
   "language": "python",
   "name": "python3"
  },
  "language_info": {
   "codemirror_mode": {
    "name": "ipython",
    "version": 3
   },
   "file_extension": ".py",
   "mimetype": "text/x-python",
   "name": "python",
   "nbconvert_exporter": "python",
   "pygments_lexer": "ipython3",
   "version": "3.6.6"
  }
 },
 "nbformat": 4,
 "nbformat_minor": 2
}

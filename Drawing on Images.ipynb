{
 "cells": [
  {
   "cell_type": "code",
   "execution_count": 24,
   "metadata": {},
   "outputs": [],
   "source": [
    "import cv2\n",
    "import numpy as np\n",
    "\n",
    "img = cv2.imread('Images/red_panda.jpg')\n",
    "\n",
    "cv2.line(img,(0,0),(498,298),(255,0,0),5)\n",
    "cv2.circle(img,(235,205),25,(0,0,255),-1)\n",
    "cv2.rectangle(img,(140,70),(350,90),(0,255,0),-1)\n",
    "\n",
    "font = cv2.FONT_HERSHEY_TRIPLEX\n",
    "cv2.putText(img,'Panda',(130,50),font,2,(0,0,0))\n",
    "cv2.imshow('Panda',img)\n",
    "\n",
    "cv2.waitKey(0) == 27\n",
    "\n",
    "cv2.destroyAllWindows()"
   ]
  },
  {
   "cell_type": "code",
   "execution_count": null,
   "metadata": {},
   "outputs": [],
   "source": []
  },
  {
   "cell_type": "code",
   "execution_count": null,
   "metadata": {},
   "outputs": [],
   "source": []
  }
 ],
 "metadata": {
  "kernelspec": {
   "display_name": "Python 3",
   "language": "python",
   "name": "python3"
  },
  "language_info": {
   "codemirror_mode": {
    "name": "ipython",
    "version": 3
   },
   "file_extension": ".py",
   "mimetype": "text/x-python",
   "name": "python",
   "nbconvert_exporter": "python",
   "pygments_lexer": "ipython3",
   "version": "3.6.6"
  }
 },
 "nbformat": 4,
 "nbformat_minor": 2
}

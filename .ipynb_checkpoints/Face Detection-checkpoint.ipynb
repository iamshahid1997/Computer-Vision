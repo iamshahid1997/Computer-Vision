{
 "cells": [
  {
   "cell_type": "code",
   "execution_count": 24,
   "metadata": {},
   "outputs": [],
   "source": [
    "import cv2\n",
    "import numpy as np\n",
    "\n",
    "img1 = cv2.imread('Images/Nadia_Murad.jpg',0)\n",
    "img2 = cv2.imread('Images/Denis_Mukwege.jpg',0)\n",
    "img3 = cv2.imread('Images/solvay_conference.jpg',0)\n",
    "\n",
    "\n",
    "face_cascade = cv2.CascadeClassifier('Images/haarcascades/haarcascade_frontalface_alt2.xml')\n",
    "\n",
    "def detect_face(img):\n",
    "    face_img = img.copy()\n",
    "    \n",
    "    face_rects = face_cascade.detectMultiScale(face_img,scaleFactor = 1.05)\n",
    "    \n",
    "    for (x,y,w,h) in face_rects:\n",
    "        cv2.rectangle(face_img,(x,y),(x+w,y+h),(255,255,255),3)\n",
    "        \n",
    "    return face_img\n",
    "\n",
    "result1 = detect_face(img1)\n",
    "result2 = detect_face(img2)\n",
    "result3 = detect_face(img3)\n",
    "\n",
    "\n",
    "\n",
    "cv2.imshow('Nadia Murad',img1)\n",
    "cv2.imshow('Denis Mukwege',img2)\n",
    "cv2.imshow('Solvay Conference',img3)\n",
    "cv2.imshow('Nadia',result1)\n",
    "cv2.imshow('Denis',result2)\n",
    "cv2.imshow('Solvay',result3)\n",
    "\n",
    "cv2.waitKey(0) == 27\n",
    "\n",
    "cv2.destroyAllWindows()"
   ]
  },
  {
   "cell_type": "code",
   "execution_count": 40,
   "metadata": {},
   "outputs": [],
   "source": [
    "import cv2\n",
    "import numpy as np\n",
    "\n",
    "cap = cv2.VideoCapture(0)\n",
    "\n",
    "while True:\n",
    "    ret, frame = cap.read()\n",
    "    frame = cv2.cvtColor(frame,cv2.COLOR_BGR2GRAY)\n",
    "    \n",
    "    face_cascade = cv2.CascadeClassifier('Images/haarcascades/haarcascade_frontalface_alt2.xml')\n",
    "    \n",
    "    def detect_face(frame):\n",
    "        face_frame = frame.copy()\n",
    "        \n",
    "        face_rects = face_cascade.detectMultiScale(face_frame)\n",
    "        \n",
    "        for (x,y,w,h) in face_rects:\n",
    "            cv2.rectangle(face_frame,(x,y),(x+w,y+h),(255,255,255),3)\n",
    "            \n",
    "        return face_frame\n",
    "    \n",
    "    result = detect_face(frame)\n",
    "    \n",
    "    cv2.imshow('Frame',result)\n",
    "    \n",
    "    if cv2.waitKey(1) == 27:\n",
    "        break\n",
    "        \n",
    "cap.release()\n",
    "cv2.destroyAllWindows()"
   ]
  },
  {
   "cell_type": "code",
   "execution_count": null,
   "metadata": {},
   "outputs": [],
   "source": []
  }
 ],
 "metadata": {
  "kernelspec": {
   "display_name": "Python 3",
   "language": "python",
   "name": "python3"
  },
  "language_info": {
   "codemirror_mode": {
    "name": "ipython",
    "version": 3
   },
   "file_extension": ".py",
   "mimetype": "text/x-python",
   "name": "python",
   "nbconvert_exporter": "python",
   "pygments_lexer": "ipython3",
   "version": "3.6.6"
  }
 },
 "nbformat": 4,
 "nbformat_minor": 2
}

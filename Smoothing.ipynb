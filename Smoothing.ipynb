{
 "cells": [
  {
   "cell_type": "code",
   "execution_count": 10,
   "metadata": {},
   "outputs": [],
   "source": [
    "import cv2\n",
    "import numpy as np\n",
    "\n",
    "img = cv2.imread('Images/balloon.jpg')\n",
    "img1 = cv2.imread('Images/lake.jpg')\n",
    "\n",
    "averaging = cv2.blur(img, (5,5))\n",
    "gaussian = cv2.GaussianBlur(img, (5,5),0)\n",
    "median = cv2.medianBlur(img, 5)\n",
    "bilateral = cv2.bilateralFilter(img1,9,70,50)\n",
    "\n",
    "cv2.imshow('Original',img1)\n",
    "#cv2.imshow('Averaging',averaging)\n",
    "#cv2.imshow('Gaussian',gaussian)\n",
    "#cv2.imshow('Median',median)\n",
    "cv2.imshow('Bilateral',bilateral)\n",
    "\n",
    "cv2.waitKey(0) == 27\n",
    "\n",
    "cv2.destroyAllWindows()"
   ]
  },
  {
   "cell_type": "code",
   "execution_count": null,
   "metadata": {},
   "outputs": [],
   "source": []
  }
 ],
 "metadata": {
  "kernelspec": {
   "display_name": "Python 3",
   "language": "python",
   "name": "python3"
  },
  "language_info": {
   "codemirror_mode": {
    "name": "ipython",
    "version": 3
   },
   "file_extension": ".py",
   "mimetype": "text/x-python",
   "name": "python",
   "nbconvert_exporter": "python",
   "pygments_lexer": "ipython3",
   "version": "3.6.6"
  }
 },
 "nbformat": 4,
 "nbformat_minor": 2
}

{
 "cells": [
  {
   "cell_type": "code",
   "execution_count": 40,
   "metadata": {},
   "outputs": [],
   "source": [
    "import cv2\n",
    "import numpy as np\n",
    "\n",
    "import time\n",
    "\n",
    "cap = cv2.VideoCapture(0)\n",
    "\n",
    "time.sleep(2)\n",
    "\n",
    "# Initialising the background value to zero \n",
    "\n",
    "background = 0 \n",
    "\n",
    "# For capturing the background\n",
    "\n",
    "for i in range(30):\n",
    "    ret, background = cap.read()\n",
    "    \n",
    "while True:\n",
    "    ret, frame = cap.read()\n",
    "    \n",
    "    # Converting from BGR to HSV \n",
    "    hsv = cv2.cvtColor(frame,cv2.COLOR_BGR2HSV) \n",
    "    \n",
    "    \n",
    "    # Slecting the color range for red color\n",
    "    \n",
    "    lower_red = np.array([0,120,70])\n",
    "    upper_red = np.array([10,255,255])\n",
    "    \n",
    "    # Creating the mask for the red color in the frame\n",
    "    mask1 = cv2.inRange(hsv,lower_red,upper_red)  \n",
    "    \n",
    "    lower_red = np.array([150,120,70])\n",
    "    upper_red = np.array([180,255,255])\n",
    "    mask2 = cv2.inRange(hsv,lower_red,upper_red)\n",
    "    \n",
    "    # It will add both the range of red colors\n",
    "   \n",
    "    mask1 = mask1 + mask2\n",
    "    \n",
    "    mask1 = cv2.morphologyEx(mask1,cv2.MORPH_OPEN,np.ones((3,3),np.uint8) , iterations = 2)  # Removes the Noise out of the ROI ,i.e., mask1\n",
    "    mask1 = cv2.morphologyEx(mask1,cv2.MORPH_DILATE,np.ones((3,3),np.uint8),iterations = 1 )  # Fills the noise in the ROI,i.e. mask1\n",
    "    \n",
    "    mask2 = cv2.bitwise_not(mask1)  # Will create a mask excluding the red color mask we created earlier\n",
    "    \n",
    "    res1 = cv2.bitwise_and(frame,frame,mask = mask2) # it will put the frame in the mask2 i.e, which excludes the red mask\n",
    "    res2 = cv2.bitwise_and(background,background,mask = mask1) # It will put the captured background on the mask1\n",
    "    final_output = cv2.addWeighted(res1,1,res2,1,0)   # Merging both\n",
    "    \n",
    "    \n",
    "    cv2.imshow('INVISIBLE CLOAK',final_output)\n",
    "    \n",
    "    if cv2.waitKey(1) & 0xFF == ord('q'):\n",
    "        break\n",
    "        \n",
    "cap.release()        \n",
    "cv2.destroyAllWindows()  "
   ]
  },
  {
   "cell_type": "code",
   "execution_count": null,
   "metadata": {},
   "outputs": [],
   "source": []
  },
  {
   "cell_type": "code",
   "execution_count": null,
   "metadata": {},
   "outputs": [],
   "source": []
  }
 ],
 "metadata": {
  "kernelspec": {
   "display_name": "Python 3",
   "language": "python",
   "name": "python3"
  },
  "language_info": {
   "codemirror_mode": {
    "name": "ipython",
    "version": 3
   },
   "file_extension": ".py",
   "mimetype": "text/x-python",
   "name": "python",
   "nbconvert_exporter": "python",
   "pygments_lexer": "ipython3",
   "version": "3.6.6"
  }
 },
 "nbformat": 4,
 "nbformat_minor": 2
}

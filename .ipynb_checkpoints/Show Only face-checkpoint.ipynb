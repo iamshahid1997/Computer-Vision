{
 "cells": [
  {
   "cell_type": "code",
   "execution_count": null,
   "metadata": {},
   "outputs": [],
   "source": [
    "import cv2\n",
    "import numpy as np\n",
    "import matplotlib.pyplot as plt\n",
    "\n",
    "cap = cv2.VideoCapture(0)\n",
    "\n",
    "while True:\n",
    "\n",
    "    _,frame = cap.read(0)\n",
    "\n",
    "\n",
    "    face_cascade = cv2.CascadeClassifier('Images/haarcascades/haarcascade_frontalface_alt2.xml')\n",
    "\n",
    "    def detect_blurr_face(frame):\n",
    "    \n",
    "        face_frame = frame.copy()\n",
    "        roi = frame.copy()\n",
    "        face = []\n",
    "    \n",
    "        face_rets = face_cascade.detectMultiScale(face_frame,scaleFactor = 1.1,minNeighbors = 5)\n",
    "    \n",
    "        if len(face_rets) != 0:            # If there are faces in the images\n",
    "            for f in face_rets:           # For each face in the image\n",
    "\n",
    "                # Get the origin co-ordinates and the length and width till where the face extends\n",
    "                x, y, w, h = [ v for v in f ]\n",
    "                sub_face = face_frame[y:y+h, x:x+w]\n",
    "                \n",
    "                cv2.imshow('Blurred',sub_face)\n",
    "            \n",
    "    result = detect_blurr_face(frame)  \n",
    "    \n",
    "\n",
    "    if cv2.waitKey(1) == 27:\n",
    "        break\n",
    "\n",
    "cap.release()\n",
    "cv2.destroyAllWindows()"
   ]
  },
  {
   "cell_type": "code",
   "execution_count": null,
   "metadata": {},
   "outputs": [],
   "source": []
  }
 ],
 "metadata": {
  "kernelspec": {
   "display_name": "Python 3",
   "language": "python",
   "name": "python3"
  },
  "language_info": {
   "codemirror_mode": {
    "name": "ipython",
    "version": 3
   },
   "file_extension": ".py",
   "mimetype": "text/x-python",
   "name": "python",
   "nbconvert_exporter": "python",
   "pygments_lexer": "ipython3",
   "version": "3.6.6"
  }
 },
 "nbformat": 4,
 "nbformat_minor": 2
}

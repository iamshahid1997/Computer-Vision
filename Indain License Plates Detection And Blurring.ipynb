{
 "cells": [
  {
   "cell_type": "code",
   "execution_count": 14,
   "metadata": {},
   "outputs": [],
   "source": [
    "import cv2\n",
    "import numpy as np\n",
    "\n",
    "img = cv2.imread('Images/plates.jpg',0)\n",
    "\n",
    "plate_cascade = cv2.CascadeClassifier('Images/haarcascades/haarcascade_indian_license_plate.xml')\n",
    "\n",
    "def detect_plate(img):\n",
    "    \n",
    "    plate_img = img.copy()\n",
    "    roi = img.copy()\n",
    "    \n",
    "    plate_rets =plate_cascade.detectMultiScale(plate_img,scaleFactor = 1.5,minNeighbors = 11)\n",
    "    \n",
    "    if len(plate_rets) != 0:            # If there are faces in the images\n",
    "         for f in plate_rets:           # For each face in the image\n",
    "\n",
    "                # Get the origin co-ordinates and the length and width till where the face extends\n",
    "                x, y, w, h = [ v for v in f ]\n",
    "                sub_face = plate_img[y:y+h, x:x+w]\n",
    "                 # apply a gaussian blur on this new recangle image\n",
    "                sub_face = cv2.GaussianBlur(sub_face,(101,101), 30)\n",
    "                 # merge this blurry rectangle to our final image\n",
    "                plate_img[y:y+sub_face.shape[0], x:x+sub_face.shape[1]] = sub_face\n",
    "                \n",
    "                cv2.imshow('Blurred',plate_img)\n",
    "        \n",
    "        \n",
    "result = detect_plate(img)\n",
    "\n",
    "\n",
    "\n",
    "cv2.waitKey(0) == 27\n",
    "\n",
    "cv2.destroyAllWindows()"
   ]
  },
  {
   "cell_type": "code",
   "execution_count": null,
   "metadata": {},
   "outputs": [],
   "source": []
  },
  {
   "cell_type": "code",
   "execution_count": null,
   "metadata": {},
   "outputs": [],
   "source": []
  }
 ],
 "metadata": {
  "kernelspec": {
   "display_name": "Python 3",
   "language": "python",
   "name": "python3"
  },
  "language_info": {
   "codemirror_mode": {
    "name": "ipython",
    "version": 3
   },
   "file_extension": ".py",
   "mimetype": "text/x-python",
   "name": "python",
   "nbconvert_exporter": "python",
   "pygments_lexer": "ipython3",
   "version": "3.6.6"
  }
 },
 "nbformat": 4,
 "nbformat_minor": 2
}

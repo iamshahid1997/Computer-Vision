{
 "cells": [
  {
   "cell_type": "code",
   "execution_count": 7,
   "metadata": {},
   "outputs": [],
   "source": [
    "import cv2\n",
    "import numpy as np\n",
    "\n",
    "cap = cv2.VideoCapture(0)\n",
    "\n",
    "while True:\n",
    "    ret,frame = cap.read()\n",
    "    \n",
    "    cv2.circle(frame,(280,200),5,(0,0,255),-1)\n",
    "    cv2.circle(frame,(460,200),5,(0,0,255),-1)\n",
    "    cv2.circle(frame,(240,320),5,(0,0,255),-1)\n",
    "    cv2.circle(frame,(520,320),5,(0,0,255),-1)\n",
    "    \n",
    "    pts1 = np.float32([[280,200],[460,200],[240,320],[520,320]])\n",
    "    pts2 = np.float32([[0,0],[400,0],[0,660],[400,600]])\n",
    "    \n",
    "    matrix = cv2.getPerspectiveTransform(pts1,pts2)\n",
    "    \n",
    "    result = cv2.warpPerspective(frame,matrix,(400,600))\n",
    "    \n",
    "    cv2.imshow('frame',frame)\n",
    "    cv2.imshow('result',result)\n",
    "    \n",
    "    if cv2.waitKey(1) == 27:\n",
    "        break\n",
    "        \n",
    "cap.release()\n",
    "cv2.destroyAllWindows()"
   ]
  },
  {
   "cell_type": "code",
   "execution_count": null,
   "metadata": {},
   "outputs": [],
   "source": []
  },
  {
   "cell_type": "code",
   "execution_count": null,
   "metadata": {},
   "outputs": [],
   "source": []
  }
 ],
 "metadata": {
  "kernelspec": {
   "display_name": "Python 3",
   "language": "python",
   "name": "python3"
  },
  "language_info": {
   "codemirror_mode": {
    "name": "ipython",
    "version": 3
   },
   "file_extension": ".py",
   "mimetype": "text/x-python",
   "name": "python",
   "nbconvert_exporter": "python",
   "pygments_lexer": "ipython3",
   "version": "3.6.6"
  }
 },
 "nbformat": 4,
 "nbformat_minor": 2
}

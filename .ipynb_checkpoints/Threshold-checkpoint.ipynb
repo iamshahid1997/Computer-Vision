{
 "cells": [
  {
   "cell_type": "code",
   "execution_count": 15,
   "metadata": {},
   "outputs": [],
   "source": [
    "import cv2\n",
    "import numpy as np\n",
    "\n",
    "img = cv2.imread('Images/black_to_white.jpg')\n",
    "img = cv2.cvtColor(img,cv2.COLOR_BGR2GRAY)\n",
    "\n",
    "ret,thresh_bin = cv2.threshold(img,128,255,cv2.THRESH_BINARY)\n",
    "ret,thresh_bin_inv = cv2.threshold(img,128,255,cv2.THRESH_BINARY_INV)\n",
    "ret,thresh_trunc = cv2.threshold(img,128,255,cv2.THRESH_TRUNC)\n",
    "ret,thresh_to_zero = cv2.threshold(img,128,255,cv2.THRESH_TOZERO)\n",
    "ret,thresh_to_zero_inv = cv2.threshold(img,128,255,cv2.THRESH_TOZERO_INV)\n",
    "\n",
    "cv2.imshow('img',img)\n",
    "cv2.imshow('th bin',thresh_bin)\n",
    "cv2.imshow('th bin inv',thresh_bin_inv)\n",
    "cv2.imshow('th trunc',thresh_trunc)\n",
    "cv2.imshow('th to zero',thresh_to_zero)\n",
    "cv2.imshow('th to zero inv',thresh_to_zero_inv)\n",
    "\n",
    "cv2.waitKey(0) == 27\n",
    "\n",
    "cv2.destroyAllWindows()"
   ]
  },
  {
   "cell_type": "code",
   "execution_count": 14,
   "metadata": {},
   "outputs": [],
   "source": [
    "import cv2\n",
    "import numpy as np\n",
    "\n",
    "def nothing(x):\n",
    "    pass\n",
    "\n",
    "cv2.namedWindow('img')\n",
    "cv2.createTrackbar('threshold level','img',0,255,nothing)\n",
    "\n",
    "img = cv2.imread('Images/red_panda.jpg')\n",
    "img = cv2.cvtColor(img,cv2.COLOR_BGR2GRAY)\n",
    "\n",
    "while True:\n",
    "\n",
    "    level = cv2.getTrackbarPos('threshold level','img')\n",
    "\n",
    "    ret,thresh_bin = cv2.threshold(img,level,255,cv2.THRESH_BINARY)\n",
    "    ret,thresh_bin_inv = cv2.threshold(img,level,255,cv2.THRESH_BINARY_INV)\n",
    "    ret,thresh_trunc = cv2.threshold(img,level,255,cv2.THRESH_TRUNC)\n",
    "    ret,thresh_to_zero = cv2.threshold(img,level,255,cv2.THRESH_TOZERO)\n",
    "    ret,thresh_to_zero_inv = cv2.threshold(img,level,255,cv2.THRESH_TOZERO_INV)  \n",
    "\n",
    "    cv2.imshow('img',img)\n",
    "    cv2.imshow('th bin',thresh_bin)\n",
    "    cv2.imshow('th bin inv',thresh_bin_inv)\n",
    "    cv2.imshow('th trunc',thresh_trunc)\n",
    "    cv2.imshow('th to zero',thresh_to_zero)\n",
    "    cv2.imshow('th to zero inv',thresh_to_zero_inv)\n",
    "\n",
    "    if cv2.waitKey(100) == 27:\n",
    "        break\n",
    "\n",
    "cv2.destroyAllWindows()"
   ]
  },
  {
   "cell_type": "code",
   "execution_count": null,
   "metadata": {},
   "outputs": [],
   "source": []
  }
 ],
 "metadata": {
  "kernelspec": {
   "display_name": "Python 3",
   "language": "python",
   "name": "python3"
  },
  "language_info": {
   "codemirror_mode": {
    "name": "ipython",
    "version": 3
   },
   "file_extension": ".py",
   "mimetype": "text/x-python",
   "name": "python",
   "nbconvert_exporter": "python",
   "pygments_lexer": "ipython3",
   "version": "3.6.6"
  }
 },
 "nbformat": 4,
 "nbformat_minor": 2
}

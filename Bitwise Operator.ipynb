{
 "cells": [
  {
   "cell_type": "code",
   "execution_count": 13,
   "metadata": {},
   "outputs": [],
   "source": [
    "import cv2\n",
    "import numpy as np\n",
    "\n",
    "img1 = cv2.imread('Images/drawing_1.png')\n",
    "img = cv2.imread('Images/drawing_2.png')\n",
    "\n",
    "cv2.imshow('img1',img1)\n",
    "cv2.imshow('img2',img)\n",
    "\n",
    "bit_and = cv2.bitwise_and(img1,img)\n",
    "bit_or = cv2.bitwise_or(img1,img)\n",
    "bit_xor = cv2.bitwise_xor(img1,img)\n",
    "bit_not1 = cv2.bitwise_not(img1)\n",
    "bit_not2 = cv2.bitwise_not(img)\n",
    "\n",
    "\n",
    "\n",
    "cv2.imshow('bit_and',bit_and)\n",
    "cv2.imshow('bit_or',bit_or)\n",
    "cv2.imshow('bit_xor',bit_xor)\n",
    "cv2.imshow('bit_not1',bit_not1)\n",
    "cv2.imshow('bit_not2',bit_not2)\n",
    "\n",
    "cv2.waitKey(0) == 27\n",
    "\n",
    "cv2.destroyAllWindows()"
   ]
  }
 ],
 "metadata": {
  "kernelspec": {
   "display_name": "Python 3",
   "language": "python",
   "name": "python3"
  },
  "language_info": {
   "codemirror_mode": {
    "name": "ipython",
    "version": 3
   },
   "file_extension": ".py",
   "mimetype": "text/x-python",
   "name": "python",
   "nbconvert_exporter": "python",
   "pygments_lexer": "ipython3",
   "version": "3.6.6"
  }
 },
 "nbformat": 4,
 "nbformat_minor": 2
}
